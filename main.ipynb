{
 "cells": [
  {
   "cell_type": "markdown",
   "metadata": {},
   "source": [
    "## PANDAS"
   ]
  },
  {
   "cell_type": "code",
   "execution_count": 324,
   "metadata": {},
   "outputs": [],
   "source": [
    "import numpy as np\n",
    "import pandas as pd\n",
    "import re\n",
    "import matplotlib.pyplot as plt\n",
    "from subprocess import check_output\n",
    "import seaborn as sns\n",
    "import sys"
   ]
  },
  {
   "cell_type": "code",
   "execution_count": 611,
   "metadata": {},
   "outputs": [],
   "source": [
    "# We load the CSV file\n",
    "sharks= pd.read_csv(\"C:/Users/AaronElias/Desktop/ironHack/attacks.csv\", encoding = \"ISO-8859-1\")\n",
    "\n",
    "\n",
    "# I renamed the column Case_Number\n",
    "sharks.rename(columns={\"Case Number\":\"Case_Number\"}, inplace=True)\n",
    "sharks.rename(columns={\"Sex \":\"Sex\"}, inplace=True)\n",
    "\n",
    "#we drop all the columns that I will not use for my project\n",
    "sharks.drop(columns=['Unnamed: 22','Unnamed: 23',\"href\",\"href formula\",\"pdf\",\"original order\",\"Time\",\"Investigator or Source\",\"Case Number.1\",\"Case Number.2\",\"Type\",\"Age\",\"Fatal (Y/N)\",\"Name\",\"Species \"], inplace=True)\n",
    "sharks.drop(columns=[\"Case_Number\"], inplace= True)\n",
    "\n"
   ]
  },
  {
   "cell_type": "code",
   "execution_count": 612,
   "metadata": {},
   "outputs": [
    {
     "name": "stdout",
     "output_type": "stream",
     "text": [
      "(25723, 8)\n",
      "Index(['Date', 'Year', 'Country', 'Area', 'Location', 'Activity', 'Sex',\n",
      "       'Injury'],\n",
      "      dtype='object')\n"
     ]
    }
   ],
   "source": [
    "# This shows the shape of or data frame\n",
    "print(sharks.shape)\n",
    "#This will show the columns of the data frame\n",
    "print(sharks.columns)"
   ]
  },
  {
   "cell_type": "markdown",
   "metadata": {},
   "source": [
    "## I will replace all the NaN values for no info"
   ]
  },
  {
   "cell_type": "code",
   "execution_count": 613,
   "metadata": {
    "scrolled": true
   },
   "outputs": [],
   "source": [
    "sharks['Country'] = sharks['Country'].fillna('No info')\n",
    "sharks['Activity'] = sharks['Activity'].fillna('No info')\n",
    "sharks['Injury'] = sharks['Injury'].fillna('No info')\n",
    "sharks['Area'] = sharks['Area'].fillna('No info')\n",
    "sharks['Location'] = sharks['Location'].fillna('No info')\n",
    "sharks['Year'] = sharks['Year'].fillna('No info')\n",
    "sharks['Sex'] = sharks['Sex'].fillna('No info')\n",
    "sharks['Date'] = sharks['Date'].fillna('No date')\n",
    "\n",
    "#I will change the Injury tex to lower case\n",
    "sharks[\"Injury\"]=sharks[\"Injury\"].str.lower()\n"
   ]
  },
  {
   "cell_type": "markdown",
   "metadata": {},
   "source": [
    "## Cleanning the column Date"
   ]
  },
  {
   "cell_type": "code",
   "execution_count": 614,
   "metadata": {},
   "outputs": [],
   "source": [
    "#I Took out all the data that contains more info that i specified with the regular expression\n",
    "sharks['Date']=sharks['Date'].str.extract(r\"(\\d{2}-[A-z]{3}-\\d{4})\")\n",
    "\n",
    "#I go some null values and I eliminated them with a dropna\n",
    "sharks.dropna(inplace=True)"
   ]
  },
  {
   "cell_type": "markdown",
   "metadata": {},
   "source": [
    "## I cleaned the Year column"
   ]
  },
  {
   "cell_type": "code",
   "execution_count": 656,
   "metadata": {},
   "outputs": [
    {
     "data": {
      "text/plain": [
       "0       2018\n",
       "1       2018\n",
       "2       2018\n",
       "3       2018\n",
       "4       2018\n",
       "        ... \n",
       "6114    1817\n",
       "6120    1810\n",
       "6142    1780\n",
       "6156    1738\n",
       "6160    1703\n",
       "Name: Year, Length: 4246, dtype: object"
      ]
     },
     "execution_count": 656,
     "metadata": {},
     "output_type": "execute_result"
    }
   ],
   "source": [
    "#I eliminated the 0 values from this colum\n",
    "sharks.drop(sharks[sharks.Year == \"No info\"].index, inplace=True)\n",
    "\n",
    "sharks.drop(sharks[sharks.Year == 0.0].index, inplace=True)\n",
    "sharks[\"Year\"]"
   ]
  },
  {
   "cell_type": "markdown",
   "metadata": {},
   "source": [
    "## Cleanning the column Area"
   ]
  },
  {
   "cell_type": "code",
   "execution_count": 616,
   "metadata": {},
   "outputs": [],
   "source": [
    "sharks.drop(sharks[sharks.Area == \"No info\"].index, inplace=True)\n",
    "sharks[\"Area\"]=sharks[\"Area\"].replace(\"¿\",\"\").replace(\"?\",\"\").replace(\",\",\"\")\n"
   ]
  },
  {
   "cell_type": "markdown",
   "metadata": {
    "scrolled": true
   },
   "source": [
    "## Column Location"
   ]
  },
  {
   "cell_type": "code",
   "execution_count": 617,
   "metadata": {},
   "outputs": [],
   "source": [
    "sharks.drop(sharks[sharks.Location == \"No info\"].index, inplace=True)\n"
   ]
  },
  {
   "cell_type": "markdown",
   "metadata": {},
   "source": [
    "## Activity Column"
   ]
  },
  {
   "cell_type": "code",
   "execution_count": 669,
   "metadata": {},
   "outputs": [
    {
     "data": {
      "text/plain": [
       "Surfing                                                                   897\n",
       "Swimming                                                                  708\n",
       "Fishing                                                                   257\n",
       "Spearfishing                                                              231\n",
       "Wading                                                                    128\n",
       "                                                                         ... \n",
       "Swimming near pod of whales                                                 1\n",
       "Scuba Diving for scallops                                                   1\n",
       "Swimming near shore                                                         1\n",
       "Rescuing seaman after ship sunk by German raider                            1\n",
       "The 426-ton cargo ship Mia, laden with cement, capsized in heavy seas       1\n",
       "Name: Activity, Length: 989, dtype: int64"
      ]
     },
     "execution_count": 669,
     "metadata": {},
     "output_type": "execute_result"
    }
   ],
   "source": [
    "sharks.drop(sharks[sharks.Activity == \"No info\"].index, inplace=True)\n",
    "sharks['Activity'].value_counts()\n"
   ]
  },
  {
   "cell_type": "markdown",
   "metadata": {},
   "source": [
    "## Sex Column"
   ]
  },
  {
   "cell_type": "code",
   "execution_count": 619,
   "metadata": {},
   "outputs": [
    {
     "data": {
      "text/plain": [
       "M    3738\n",
       "F     511\n",
       "Name: Sex, dtype: int64"
      ]
     },
     "execution_count": 619,
     "metadata": {},
     "output_type": "execute_result"
    }
   ],
   "source": [
    "sharks.drop(sharks[sharks.Sex == \"No info\"].index, inplace=True)\n",
    "sharks.drop(sharks[sharks.Sex == \"N\"].index, inplace=True)\n",
    "sharks.drop(sharks[sharks.Sex == \"lli\"].index, inplace=True)\n",
    "sharks.drop(sharks[sharks.Sex == \".\"].index, inplace=True)\n",
    "sharks[\"Sex\"]=sharks[\"Sex\"].str.strip()\n",
    "sharks['Sex'].value_counts()\n",
    "\n"
   ]
  },
  {
   "cell_type": "markdown",
   "metadata": {},
   "source": [
    "## Country Column"
   ]
  },
  {
   "cell_type": "code",
   "execution_count": 627,
   "metadata": {},
   "outputs": [
    {
     "data": {
      "text/plain": [
       "Usa                 1824\n",
       "Australia           1011\n",
       "South Africa         448\n",
       "New Zealand           92\n",
       "Brazil                84\n",
       "Papua New Guinea      62\n",
       "Bahamas               56\n",
       "Mexico                50\n",
       "Reunion               34\n",
       "Italy                 33\n",
       "Name: Country, dtype: int64"
      ]
     },
     "execution_count": 627,
     "metadata": {},
     "output_type": "execute_result"
    }
   ],
   "source": [
    "sharks.drop(sharks[sharks.Country == \"No info\"].index, inplace=True)\n",
    "\n",
    "sharks[\"Country\"]= sharks.Country.str.replace('\\&', 'and').str.strip()\n",
    "sharks[\"Country\"]= sharks.Country.replace('\\/.+|\\(.+\\)|\\.|\\?', '')\n",
    "sharks[\"Country\"].replace(\"ST HELENA, British overseas territory\",\"UNITED KINGDOM\",inplace=True)\n",
    "sharks[\"Country\"].replace(\"ENGLAND\",\"UNITED KINGDOM\",inplace=True)\n",
    "sharks[\"Country\"].replace(\"BRITISH ISLES\",\"UNITED KINGDOM\",inplace=True)\n",
    "sharks[\"Country\"].replace(\"OKINAWA\",\"JAPAN\",inplace=True)\n",
    "sharks[\"Country\"].replace(\"AZORES\",\"PORTUGAL\",inplace=True)\n",
    "sharks[\"Country\"].replace(\"RED SEA\",\"EGYPT\",inplace=True)\n",
    "sharks[\"Country\"].replace(\"NEW BRITAIN\",\"PAPUA NEW GUINEA\",inplace=True)\n",
    "sharks[\"Country\"].replace(\"NEW GUINEA\",\"PAPUA NEW GUINEA\",inplace=True)\n",
    "sharks[\"Country\"].replace(\"BRITISH NEW GUINEA\",\"PAPUA NEW GUINEA\",inplace=True)\n",
    "sharks[\"Country\"].replace(\"ADMIRALTY ISLANDS\",\"PAPUA NEW GUINEA\",inplace=True)\n",
    "sharks[\"Country\"].replace(\"FEDERATED STATES OF MICRONESIA\",\"MICRONESIA\",inplace=True)\n",
    "sharks[\"Country\"].replace(\"COLUMBIA\",\"COLOMBIA\",inplace=True)\n",
    "sharks[\"Country\"]=sharks[\"Country\"].str.title()\n",
    "sharks[\"Country\"].unique()\n",
    "sharks[\"Country\"].value_counts().head(10)"
   ]
  },
  {
   "cell_type": "markdown",
   "metadata": {},
   "source": [
    "## Injury column"
   ]
  },
  {
   "cell_type": "code",
   "execution_count": 671,
   "metadata": {},
   "outputs": [
    {
     "data": {
      "text/plain": [
       "4246"
      ]
     },
     "execution_count": 671,
     "metadata": {},
     "output_type": "execute_result"
    }
   ],
   "source": [
    "sharks[\"Injury\"]= sharks.Injury.str.replace('\\&', 'and')\n",
    "sharks['Injury'].value_counts()\n",
    "len(sharks[\"Injury\"])"
   ]
  },
  {
   "cell_type": "code",
   "execution_count": 759,
   "metadata": {},
   "outputs": [
    {
     "data": {
      "text/html": [
       "<div>\n",
       "<style scoped>\n",
       "    .dataframe tbody tr th:only-of-type {\n",
       "        vertical-align: middle;\n",
       "    }\n",
       "\n",
       "    .dataframe tbody tr th {\n",
       "        vertical-align: top;\n",
       "    }\n",
       "\n",
       "    .dataframe thead th {\n",
       "        text-align: right;\n",
       "    }\n",
       "</style>\n",
       "<table border=\"1\" class=\"dataframe\">\n",
       "  <thead>\n",
       "    <tr style=\"text-align: right;\">\n",
       "      <th></th>\n",
       "      <th>Date</th>\n",
       "      <th>Year</th>\n",
       "      <th>Country</th>\n",
       "      <th>Area</th>\n",
       "      <th>Location</th>\n",
       "      <th>Activity</th>\n",
       "      <th>Sex</th>\n",
       "      <th>Injury</th>\n",
       "      <th>Years</th>\n",
       "    </tr>\n",
       "  </thead>\n",
       "  <tbody>\n",
       "    <tr>\n",
       "      <th>0</th>\n",
       "      <td>25-Jun-2018</td>\n",
       "      <td>2018</td>\n",
       "      <td>Usa</td>\n",
       "      <td>California</td>\n",
       "      <td>Oceanside, San Diego County</td>\n",
       "      <td>Paddling</td>\n",
       "      <td>F</td>\n",
       "      <td>no injury to occupant, outrigger canoe and pad...</td>\n",
       "      <td>2018</td>\n",
       "    </tr>\n",
       "    <tr>\n",
       "      <th>1</th>\n",
       "      <td>18-Jun-2018</td>\n",
       "      <td>2018</td>\n",
       "      <td>Usa</td>\n",
       "      <td>Georgia</td>\n",
       "      <td>St. Simon Island, Glynn County</td>\n",
       "      <td>Standing</td>\n",
       "      <td>F</td>\n",
       "      <td>minor injury to left thigh</td>\n",
       "      <td>2018</td>\n",
       "    </tr>\n",
       "    <tr>\n",
       "      <th>2</th>\n",
       "      <td>09-Jun-2018</td>\n",
       "      <td>2018</td>\n",
       "      <td>Usa</td>\n",
       "      <td>Hawaii</td>\n",
       "      <td>Habush, Oahu</td>\n",
       "      <td>Surfing</td>\n",
       "      <td>M</td>\n",
       "      <td>injury to left lower leg from surfboard skeg</td>\n",
       "      <td>2018</td>\n",
       "    </tr>\n",
       "    <tr>\n",
       "      <th>3</th>\n",
       "      <td>08-Jun-2018</td>\n",
       "      <td>2018</td>\n",
       "      <td>Australia</td>\n",
       "      <td>New South Wales</td>\n",
       "      <td>Arrawarra Headland</td>\n",
       "      <td>Surfing</td>\n",
       "      <td>M</td>\n",
       "      <td>minor injury to lower leg</td>\n",
       "      <td>2018</td>\n",
       "    </tr>\n",
       "    <tr>\n",
       "      <th>4</th>\n",
       "      <td>04-Jun-2018</td>\n",
       "      <td>2018</td>\n",
       "      <td>Mexico</td>\n",
       "      <td>Colima</td>\n",
       "      <td>La Ticla</td>\n",
       "      <td>Free diving</td>\n",
       "      <td>M</td>\n",
       "      <td>lacerations to leg and hand shark provoked inc...</td>\n",
       "      <td>2018</td>\n",
       "    </tr>\n",
       "    <tr>\n",
       "      <th>...</th>\n",
       "      <td>...</td>\n",
       "      <td>...</td>\n",
       "      <td>...</td>\n",
       "      <td>...</td>\n",
       "      <td>...</td>\n",
       "      <td>...</td>\n",
       "      <td>...</td>\n",
       "      <td>...</td>\n",
       "      <td>...</td>\n",
       "    </tr>\n",
       "    <tr>\n",
       "      <th>6114</th>\n",
       "      <td>11-May-1817</td>\n",
       "      <td>1817</td>\n",
       "      <td>Sri Lanka</td>\n",
       "      <td>Western Province</td>\n",
       "      <td>Colombo</td>\n",
       "      <td>Swimming</td>\n",
       "      <td>M</td>\n",
       "      <td>fatal</td>\n",
       "      <td>NaN</td>\n",
       "    </tr>\n",
       "    <tr>\n",
       "      <th>6120</th>\n",
       "      <td>15-Sep-1810</td>\n",
       "      <td>1810</td>\n",
       "      <td>Usa</td>\n",
       "      <td>South Carolina</td>\n",
       "      <td>Charleston</td>\n",
       "      <td>Fell into the water</td>\n",
       "      <td>M</td>\n",
       "      <td>fatal</td>\n",
       "      <td>NaN</td>\n",
       "    </tr>\n",
       "    <tr>\n",
       "      <th>6142</th>\n",
       "      <td>08-Aug-1780</td>\n",
       "      <td>1780</td>\n",
       "      <td>Usa</td>\n",
       "      <td>Florida</td>\n",
       "      <td>Pensacola Harbor, Escambia County</td>\n",
       "      <td>Swimming</td>\n",
       "      <td>M</td>\n",
       "      <td>fatal</td>\n",
       "      <td>NaN</td>\n",
       "    </tr>\n",
       "    <tr>\n",
       "      <th>6156</th>\n",
       "      <td>06-Apr-1738</td>\n",
       "      <td>1738</td>\n",
       "      <td>Italy</td>\n",
       "      <td>Sicily</td>\n",
       "      <td>Strait of Messina</td>\n",
       "      <td>Swimming</td>\n",
       "      <td>M</td>\n",
       "      <td>fatal</td>\n",
       "      <td>NaN</td>\n",
       "    </tr>\n",
       "    <tr>\n",
       "      <th>6160</th>\n",
       "      <td>26-Mar-1703</td>\n",
       "      <td>1703</td>\n",
       "      <td>Barbados</td>\n",
       "      <td>Southwest coast</td>\n",
       "      <td>Carlisle Bay</td>\n",
       "      <td>Swimming</td>\n",
       "      <td>M</td>\n",
       "      <td>hand and foot severely bitten, surgically ampu...</td>\n",
       "      <td>NaN</td>\n",
       "    </tr>\n",
       "  </tbody>\n",
       "</table>\n",
       "<p>4246 rows × 9 columns</p>\n",
       "</div>"
      ],
      "text/plain": [
       "             Date  Year    Country              Area  \\\n",
       "0     25-Jun-2018  2018        Usa        California   \n",
       "1     18-Jun-2018  2018        Usa           Georgia   \n",
       "2     09-Jun-2018  2018        Usa            Hawaii   \n",
       "3     08-Jun-2018  2018  Australia   New South Wales   \n",
       "4     04-Jun-2018  2018     Mexico            Colima   \n",
       "...           ...   ...        ...               ...   \n",
       "6114  11-May-1817  1817  Sri Lanka  Western Province   \n",
       "6120  15-Sep-1810  1810        Usa    South Carolina   \n",
       "6142  08-Aug-1780  1780        Usa           Florida   \n",
       "6156  06-Apr-1738  1738      Italy            Sicily   \n",
       "6160  26-Mar-1703  1703   Barbados   Southwest coast   \n",
       "\n",
       "                               Location             Activity Sex  \\\n",
       "0           Oceanside, San Diego County             Paddling   F   \n",
       "1        St. Simon Island, Glynn County             Standing   F   \n",
       "2                          Habush, Oahu              Surfing   M   \n",
       "3                    Arrawarra Headland              Surfing   M   \n",
       "4                              La Ticla          Free diving   M   \n",
       "...                                 ...                  ...  ..   \n",
       "6114                            Colombo             Swimming   M   \n",
       "6120                         Charleston  Fell into the water   M   \n",
       "6142  Pensacola Harbor, Escambia County             Swimming   M   \n",
       "6156                  Strait of Messina             Swimming   M   \n",
       "6160                       Carlisle Bay             Swimming   M   \n",
       "\n",
       "                                                 Injury Years  \n",
       "0     no injury to occupant, outrigger canoe and pad...  2018  \n",
       "1                            minor injury to left thigh  2018  \n",
       "2          injury to left lower leg from surfboard skeg  2018  \n",
       "3                             minor injury to lower leg  2018  \n",
       "4     lacerations to leg and hand shark provoked inc...  2018  \n",
       "...                                                 ...   ...  \n",
       "6114                                              fatal   NaN  \n",
       "6120                                              fatal   NaN  \n",
       "6142                                              fatal   NaN  \n",
       "6156                                              fatal   NaN  \n",
       "6160  hand and foot severely bitten, surgically ampu...   NaN  \n",
       "\n",
       "[4246 rows x 9 columns]"
      ]
     },
     "execution_count": 759,
     "metadata": {},
     "output_type": "execute_result"
    }
   ],
   "source": [
    "sharks"
   ]
  },
  {
   "cell_type": "markdown",
   "metadata": {},
   "source": [
    "##  Plots"
   ]
  },
  {
   "cell_type": "markdown",
   "metadata": {},
   "source": [
    "## which are the five country with more attacks in the world?"
   ]
  },
  {
   "cell_type": "code",
   "execution_count": 630,
   "metadata": {},
   "outputs": [
    {
     "name": "stdout",
     "output_type": "stream",
     "text": [
      "Usa             1824\n",
      "Australia       1011\n",
      "South Africa     448\n",
      "New Zealand       92\n",
      "Brazil            84\n",
      "Name: Country, dtype: int64\n"
     ]
    },
    {
     "data": {
      "text/plain": [
       "<matplotlib.axes._subplots.AxesSubplot at 0x2042ca83e08>"
      ]
     },
     "execution_count": 630,
     "metadata": {},
     "output_type": "execute_result"
    },
    {
     "data": {
      "image/png": "[encoded data removed]",
      "text/plain": [
       "<Figure size 432x288 with 1 Axes>"
      ]
     },
     "metadata": {
      "needs_background": "light"
     },
     "output_type": "display_data"
    }
   ],
   "source": [
    "print(sharks['Country'].value_counts().head())\n",
    "\n",
    "Countrys= sharks['Country'].value_counts().head()\n",
    "Countrys.plot(title=\"The five country with more attacks in the world\")"
   ]
  },
  {
   "cell_type": "markdown",
   "metadata": {},
   "source": [
    "## how many attacks have been occurred in the last 20 years ?"
   ]
  },
  {
   "cell_type": "code",
   "execution_count": 661,
   "metadata": {
    "scrolled": true
   },
   "outputs": [
    {
     "name": "stdout",
     "output_type": "stream",
     "text": [
      "2001.0     72\n",
      "2002.0     79\n",
      "2003.0     79\n",
      "2004.0     79\n",
      "2005.0     82\n",
      "2006.0     85\n",
      "2007.0     99\n",
      "2008.0     98\n",
      "2009.0    103\n",
      "2010.0     89\n",
      "2011.0    111\n",
      "2012.0     99\n",
      "2013.0    101\n",
      "2014.0     95\n",
      "2015.0    124\n",
      "2016.0    112\n",
      "2017.0    114\n",
      "2018.0     46\n",
      "Name: Years, dtype: int64\n"
     ]
    },
    {
     "data": {
      "text/plain": [
       "<matplotlib.axes._subplots.AxesSubplot at 0x2042ccdd988>"
      ]
     },
     "execution_count": 661,
     "metadata": {},
     "output_type": "execute_result"
    },
    {
     "data": {
      "image/png": "[encoded data removed]",
      "text/plain": [
       "<Figure size 432x288 with 1 Axes>"
      ]
     },
     "metadata": {
      "needs_background": "light"
     },
     "output_type": "display_data"
    }
   ],
   "source": [
    "print(sharks['Years'].value_counts().sort_index())\n",
    "sharks[\"Years\"]=sharks[sharks[\"Year\"] > 2000][\"Year\"]\n",
    "Years= sharks['Years'].value_counts().sort_index()\n",
    "Years.plot(title=\"Shark Attacks for the last 20 years\", kind=\"barh\")\n"
   ]
  },
  {
   "cell_type": "markdown",
   "metadata": {},
   "source": [
    "## what is the sex with more sharks incidents?"
   ]
  },
  {
   "cell_type": "code",
   "execution_count": 662,
   "metadata": {},
   "outputs": [
    {
     "name": "stdout",
     "output_type": "stream",
     "text": [
      "M    3735\n",
      "F     511\n",
      "Name: Sex, dtype: int64\n"
     ]
    },
    {
     "data": {
      "text/plain": [
       "<matplotlib.axes._subplots.AxesSubplot at 0x2042cbfd108>"
      ]
     },
     "execution_count": 662,
     "metadata": {},
     "output_type": "execute_result"
    },
    {
     "data": {
      "image/png": "[encoded data removed]",
      "text/plain": [
       "<Figure size 432x288 with 1 Axes>"
      ]
     },
     "metadata": {
      "needs_background": "light"
     },
     "output_type": "display_data"
    }
   ],
   "source": [
    "print(sharks['Sex'].value_counts())\n",
    "\n",
    "sharks[sharks['Sex'].isin(['M','F'])][\"Sex\"].value_counts().plot.bar(color='purple')\n"
   ]
  },
  {
   "cell_type": "code",
   "execution_count": 769,
   "metadata": {},
   "outputs": [],
   "source": [
    "Freq_act= sharks['Activity']\n",
    "p=[]\n",
    "for i in Freq_act:\n",
    "    i=i.replace(\",\",\" \").replace(\";\",\" \")\n",
    "    i=i.replace(\",\",\" \").replace(\";\",\" \")\n",
    "    i=i.replace(\"  \", \" \").replace(\"  \",\" \")\n",
    "    p.extend(i.split())\n",
    "p=pd.Series(p)\n"
   ]
  },
  {
   "cell_type": "code",
   "execution_count": 768,
   "metadata": {},
   "outputs": [],
   "source": [
    "blacklist=[\"by\",\"to\",\"and\",\"shark\",\"no\",\"from\",\"of\",\"the\",\"on\",\"fin\",\"likely\",\"caused\",\"fin\",\"calf\",\"minor\"\n",
    "           ,\"puncture\",\"above\",\"if\",\"or\",\"when\",\"off\",\"his\",\"denfese\",\"not\",\"erroneously\",\"lower\",\"severe\",\"feeding\",\"against\",\n",
    "           \"10-inch\",\"a\",\"board\",\"lacerated\",\"lacerations\",\"in\",\"laceration\",\"2\",\"3\",\"severed\",\"bit\",\"hooked\",\"was\",\"he\",\"with\",\"severely\",\"but\",\"at\",\n",
    "           \"punctures\",\"back\",\"provoked\",\"incident\",\"kayak\",\"it\",\"have\",\"injured\",\"injuries\",\"recovered\",\"surigcally\",\n",
    "           \"survived\",\"sharks\",\"involvement\",\"buttock\",\"after\",\"upper\",\"small\",\"multiple\",\"below\",\"later\",\n",
    "           \"disappeared\",\"cuts\",\"abrasions\",\"for\",\"water\",\"34'\",\"field\",\"Men\",\"field\",\"Mormackite\",\"Carrie\",\"POD)\",\n",
    "           \"belived\",\"woman\",\"Trochus\",\"details\",\"steamships\",\"(9)\",\"4'\",\"Technical\",\"Fell\",\"into\",\"&\",\"Free\",\"/\",\n",
    "           \"fish\",\"capsized\",\"Body\",\"net\",\"sea\",\"Playing\",\"near\",\"trochus\",\"fell\",\"m\",\"out\"]\n",
    "for i in blacklist:\n",
    "    p.drop(p[p.values == i].index,inplace=True)\n"
   ]
  },
  {
   "cell_type": "markdown",
   "metadata": {},
   "source": [
    "## Which are the five more popular sport that get an attack from a shark?"
   ]
  },
  {
   "cell_type": "code",
   "execution_count": 770,
   "metadata": {},
   "outputs": [
    {
     "name": "stdout",
     "output_type": "stream",
     "text": [
      "Surfing         949\n",
      "Swimming        861\n",
      "Fishing         375\n",
      "Spearfishing    292\n",
      "diving          225\n",
      "dtype: int64\n"
     ]
    },
    {
     "data": {
      "text/plain": [
       "<matplotlib.axes._subplots.AxesSubplot at 0x2042e99a548>"
      ]
     },
     "execution_count": 770,
     "metadata": {},
     "output_type": "execute_result"
    },
    {
     "data": {
      "image/png": "[encoded data removed]",
      "text/plain": [
       "<Figure size 432x288 with 1 Axes>"
      ]
     },
     "metadata": {
      "needs_background": "light"
     },
     "output_type": "display_data"
    }
   ],
   "source": [
    "print(p.value_counts().head(5))\n",
    "p.value_counts().head(5).plot(kind=\"barh\")"
   ]
  },
  {
   "cell_type": "code",
   "execution_count": null,
   "metadata": {},
   "outputs": [],
   "source": []
  }
 ],
 "metadata": {
  "kernelspec": {
   "display_name": "Python 3",
   "language": "python",
   "name": "python3"
  },
  "language_info": {
   "codemirror_mode": {
    "name": "ipython",
    "version": 3
   },
   "file_extension": ".py",
   "mimetype": "text/x-python",
   "name": "python",
   "nbconvert_exporter": "python",
   "pygments_lexer": "ipython3",
   "version": "3.7.6"
  }
 },
 "nbformat": 4,
 "nbformat_minor": 4
}
